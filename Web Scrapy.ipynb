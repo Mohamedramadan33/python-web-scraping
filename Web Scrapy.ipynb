{
 "cells": [
  {
   "cell_type": "markdown",
   "id": "b9a4e2bc-ceea-4e2a-9e13-c00b3b0465aa",
   "metadata": {},
   "source": [
    "# Import required libraries\n"
   ]
  },
  {
   "cell_type": "code",
   "execution_count": 54,
   "id": "8bdf2b62-e040-44ae-a399-98c269dadefb",
   "metadata": {},
   "outputs": [],
   "source": [
    "import requests\n",
    "from bs4 import BeautifulSoup\n",
    "import csv\n",
    "import json"
   ]
  },
  {
   "cell_type": "code",
   "execution_count": 55,
   "id": "2c92308b-9f78-461c-a2ac-298745810e21",
   "metadata": {},
   "outputs": [],
   "source": [
    "# URL of the web page to scrape\n",
    "url = \"https://baraasalout.github.io/test.html\"\n",
    "# Download the HTML content of the page\n",
    "res = requests.get(url)\n",
    "soup = BeautifulSoup(res.text, \"html.parser\")"
   ]
  },
  {
   "cell_type": "code",
   "execution_count": 56,
   "id": "d10f3f5f-f837-440d-83bf-cd28864899ff",
   "metadata": {},
   "outputs": [
    {
     "name": "stdout",
     "output_type": "stream",
     "text": [
      "b'<!DOCTYPE html>\\n\\n<html>\\n\\n    <head>\\n        <title>Web Scraping Task with Form</title>\\n\\n         <style>\\n        body {\\n            font-family: Arial, sans-serif;\\n            margin: 20px;\\n            background-color: #f5f5f5;\\n        }\\n\\n        h1 {\\n            color: darkred;\\n            text-align: center;\\n        }\\n\\n        h2 {\\n            color: darkblue;\\n            font-style: italic;\\n        }\\n\\n        p {\\n            color: #555;\\n            font-size: 14px;\\n        }\\n\\n        img {\\n            width: 250px;\\n            height: auto;\\n            border-radius: 10px;\\n        }\\n\\n        table {\\n            width: 100%;\\n            border-collapse: collapse;\\n            margin: 20px 0;\\n        }\\n\\n        table, th, td {\\n            border: 1px solid #ccc;\\n        }\\n\\n        th {\\n            background-color: #333;\\n            color: white;\\n            padding: 10px;\\n        }\\n\\n        td {\\n            text-align: center;\\n            padding: 10px;\\n        }\\n\\n        .btn {\\n            background-color: darkgreen;\\n            color: white;\\n            border: none;\\n            padding: 10px 20px;\\n            cursor: pointer;\\n            text-transform: uppercase;\\n            font-weight: bold;\\n        }\\n\\n        .btn:hover {\\n            background-color: green;\\n        }\\n\\n        ul {\\n            list-style-type: square;\\n        }\\n\\n        iframe {\\n            display: block;\\n            margin: 20px auto;\\n            border: none;\\n        }\\n\\n        .footer {\\n            background-color: #333;\\n            color: white;\\n            text-align: center;\\n            padding: 10px 0;\\n            margin-top: 30px;\\n        }\\n\\n        .highlight {\\n            background-color: yellow;\\n            font-weight: bold;\\n        }\\n\\n        form {\\n            margin: 20px 0;\\n            background-color: #fff;\\n            padding: 20px;\\n            border: 1px solid #ccc;\\n            border-radius: 5px;\\n        }\\n\\n        form input, form select, form button {\\n            display: block;\\n            margin: 10px 0;\\n            padding: 10px;\\n            width: 100%;\\n            max-width: 400px;\\n            border: 1px solid #ccc;\\n            border-radius: 5px;\\n        }\\n\\n        .products {\\n            display: flex;\\n            flex-wrap: wrap;\\n            justify-content: center;\\n            gap: 20px;\\n            margin-top: 30px;\\n        }\\n\\n        .product-card {\\n            width: 250px;\\n            border: 1px solid #ddd;\\n            border-radius: 8px;\\n            background-color: #fff;\\n            box-shadow: 0 4px 6px rgba(0, 0, 0, 0.1);\\n            text-align: center;\\n            overflow: hidden;\\n            transition: transform 0.3s ease, box-shadow 0.3s ease;\\n        }\\n\\n        .product-card:hover {\\n            transform: translateY(-5px);\\n            box-shadow: 0 8px 12px rgba(0, 0, 0, 0.2);\\n        }\\n\\n        .product-card img {\\n            width: 100%;\\n            height: 150px;\\n            object-fit: cover;\\n        }\\n\\n        .product-card .name {\\n            font-size: 18px;\\n            font-weight: bold;\\n            margin: 15px 0 5px;\\n            color: #333;\\n        }\\n\\n        .product-card .price {\\n            font-size: 16px;\\n            color: #28a745;\\n            margin: 5px 0;\\n        }\\n\\n        .product-card .colors {\\n            font-size: 14px;\\n            color: #666;\\n            margin-bottom: 15px;\\n        }\\n\\n        .product-card button {\\n            background-color: #007bff;\\n            color: white;\\n            border: none;\\n            padding: 10px 20px;\\n            margin: 10px 0;\\n            cursor: pointer;\\n            border-radius: 5px;\\n            font-size: 14px;\\n            transition: background-color 0.3s ease;\\n        }\\n\\n        .product-card button:hover {\\n            background-color: #0056b3;\\n        }\\n    </style>\\n    </head>\\n\\n    <body>\\n        <h1>Web Scraping Practice</h1>\\n        <p>Welcome to the web scraping task! Use your skills to extract the required data from this page.</p>\\n\\n        <h2>Available Products</h2>\\n        <ul>\\n            <li class=\"highlight\">Laptop</li>\\n            <li>Smartphone</li>\\n            <li>Tablet</li>\\n            <li>Smartwatch</li>\\n        </ul>\\n\\n        <h2>Product Table</h2>\\n        <table>\\n            <tr>\\n                <th>Product</th>\\n                <th>Price</th>\\n                <th>In Stock</th>\\n            </tr>\\n            <tr>\\n                <td>Laptop</td>\\n                <td>$1000</td>\\n                <td>Yes</td>\\n            </tr>\\n            <tr>\\n                <td>Smartphone</td>\\n                <td>$800</td>\\n                <td>No</td>\\n            </tr>\\n            <tr>\\n                <td>Tablet</td>\\n                <td>$500</td>\\n                <td>Yes</td>\\n            </tr>\\n        </table>\\n\\n        <h2>Watch This Video</h2>\\n        <iframe width=\"560\" height=\"315\" src=\"https://www.youtube.com/watch?v=ujf9RNuBdCU\"></iframe>\\n        \\n        \\n\\n        \\n        <h2>Contact Us</h2>\\n        <form>\\n            <label for=\"username\">Username:</label>\\n            <input type=\"text\" id=\"username\" name=\"username\" placeholder=\"Enter your username\">\\n\\n            <label for=\"password\">Password:</label>\\n            <input type=\"password\" id=\"password\" name=\"password\" placeholder=\"Enter your password\">\\n\\n            <label for=\"options\">Choose an option:</label>\\n            <select id=\"options\" name=\"options\">\\n                <option value=\"option1\">Option 1</option>\\n                <option value=\"option2\">Option 2</option>\\n                <option value=\"option3\">Option 3</option>\\n            </select>\\n\\n            <label>\\n                <input type=\"checkbox\" name=\"terms\"> I agree to the terms and conditions\\n            </label>\\n\\n            <input type=\"submit\" value=\"Submit\">\\n        </form>\\n\\n    <h2>Product Information</h2>\\n    <div class=\"book-products\" style=\"display: flex; justify-content: space-around; margin-top: 20px;\">\\n        <div style=\"text-align: center; width: 200px; border: 1px solid #ddd; padding: 10px; border-radius: 5px;\">\\n            <img src=\"http://books.toscrape.com/media/cache/26/0c/260c6ae16bce31c8f8c95daddd9f4a1c.jpg\" alt=\"Sharp Objects\" style=\"width: 100%; height: auto; border-radius: 5px;\">\\n            <p><strong>Sharp Objects</strong></p>\\n            <p style=\"color: green;\">\\xc2\\xa347.82</p>\\n            <p style=\"color: green;\">\\xe2\\x9c\\x94 In stock</p>\\n            <button style=\"background-color: blue; color: white; border: none; padding: 10px 15px; border-radius: 5px; cursor: pointer;\">Add to basket</button>\\n        </div>\\n\\n        <div style=\"text-align: center; width: 200px; border: 1px solid #ddd; padding: 10px; border-radius: 5px;\">\\n            <img src=\"http://books.toscrape.com/media/cache/92/27/92274a95b7c251fea59a2b8a78275ab4.jpg\" alt=\"In a Dark, Dark Wood\" style=\"width: 100%; height: auto; border-radius: 5px;\">\\n            <p><strong>In a Dark, Dark Wood</strong></p>\\n            <p style=\"color: green;\">\\xc2\\xa319.63</p>\\n            <p style=\"color: green;\">\\xe2\\x9c\\x94 In stock</p>\\n            <button style=\"background-color: blue; color: white; border: none; padding: 10px 15px; border-radius: 5px; cursor: pointer;\">Add to basket</button>\\n        </div>\\n\\n        <div style=\"text-align: center; width: 200px; border: 1px solid #ddd; padding: 10px; border-radius: 5px;\">\\n            <img src=\"http://books.toscrape.com/media/cache/c0/59/c05972805aa7201171b8fc71a5b00292.jpg\" alt=\"The Past Never Ends\" style=\"width: 100%; height: auto; border-radius: 5px;\">\\n            <p><strong>The Past Never Ends</strong></p>\\n            <p style=\"color: green;\">\\xc2\\xa356.50</p>\\n            <p style=\"color: green;\">\\xe2\\x9c\\x94 In stock</p>\\n            <button style=\"background-color: blue; color: white; border: none; padding: 10px 15px; border-radius: 5px; cursor: pointer;\">Add to basket</button>\\n        </div>\\n\\n        <div style=\"text-align: center; width: 200px; border: 1px solid #ddd; padding: 10px; border-radius: 5px;\">\\n            <img src=\"http://books.toscrape.com/media/cache/97/27/97275841c81e66d53bf9313cba06f23e.jpg\" alt=\"A Murder in Time\" style=\"width: 100%; height: auto; border-radius: 5px;\">\\n            <p><strong>A Murder in Time</strong></p>\\n            <p style=\"color: green;\">\\xc2\\xa316.64</p>\\n            <p style=\"color: green;\"> Out stock</p>\\n            <button style=\"background-color: blue; color: white; border: none; padding: 10px 15px; border-radius: 5px; cursor: pointer;\">Add to basket</button>\\n        </div>\\n    </div>\\n\\n    \\n\\n    <h2>Featured Products</h2>\\n    <div class=\"products\">\\n        <div class=\"product-card\" data-id=\"101\">\\n            <img src=\"https://via.placeholder.com/250x150?text=Product+1\" alt=\"Wireless Headphones\">\\n            <p class=\"name\">Wireless Headphones</p>\\n            <p class=\"price\" style=\"display: none;\">$49.99</p>\\n            <p class=\"colors\">Available colors: Black, White, Blue</p>\\n            <button>Add to Basket</button>\\n        </div>\\n        <div class=\"product-card\" data-id=\"102\">\\n            <img src=\"https://via.placeholder.com/250x150?text=Product+2\" alt=\"Smart Speaker\">\\n            <p class=\"name\">Smart Speaker</p>\\n            <p class=\"price\" style=\"display: none;\">$89.99</p>\\n            <p class=\"colors\">Available colors: Grey, Black</p>\\n            <button>Add to Basket</button>\\n        </div>\\n        <div class=\"product-card\" data-id=\"103\">\\n            <img src=\"https://via.placeholder.com/250x150?text=Product+3\" alt=\"Smart Watch\">\\n            <p class=\"name\">Smart Watch</p>\\n            <p class=\"price\" style=\"display: none;\">$149.99</p>\\n            <p class=\"colors\">Available colors: Black, Silver, Gold</p>\\n            <button>Add to Basket</button>\\n        </div>\\n    </div>\\n\\n    <div class=\"footer\">\\n            <p>&copy; 2024 Web Scraping Practice. All Rights Reserved.</p>\\n        </div>\\n    </body>\\n</html>\\n'\n"
     ]
    }
   ],
   "source": [
    "def main(url):\n",
    "    res = requests.get(url) \n",
    "    src = res.content        \n",
    "    print(src)               \n",
    "\n",
    "main(\"https://baraasalout.github.io/test.html\")"
   ]
  },
  {
   "cell_type": "markdown",
   "id": "8d9483d0-22ec-423c-aea1-4ede69130a88",
   "metadata": {},
   "source": [
    "# Task 1: Extract Text Data"
   ]
  },
  {
   "cell_type": "code",
   "execution_count": 57,
   "id": "c9822b21-8e42-4879-bbd7-40e44b96a97d",
   "metadata": {},
   "outputs": [],
   "source": [
    "text_data = []\n",
    "\n",
    "for h in soup.find_all([\"h1\", \"h2\"]):\n",
    "    text_data.append({\"Type\": \"Heading\", \"Content\": h.get_text(strip=True)})\n",
    "\n",
    "for p in soup.find_all([\"p\", \"li\"]):\n",
    "    text_data.append({\"Type\": \"Paragraph\", \"Content\": p.get_text(strip=True)})\n",
    "\n",
    "\n",
    "# Save extracted text into a CSV file\n",
    "with open(\"Extract_Text_Data.csv\", \"w\", newline=\"\", encoding=\"utf-8-sig\") as f:\n",
    "    writer = csv.DictWriter(f, fieldnames=[\"Type\", \"Content\"])\n",
    "    writer.writeheader()\n",
    "    writer.writerows(text_data)"
   ]
  },
  {
   "cell_type": "markdown",
   "id": "8a935f7a-40d1-4419-9f51-8ab958b778cd",
   "metadata": {},
   "source": [
    "# task 2 : Extract Table Data"
   ]
  },
  {
   "cell_type": "code",
   "execution_count": 58,
   "id": "76cef02b-ffc7-42c9-86c6-12cbbe032138",
   "metadata": {},
   "outputs": [],
   "source": [
    "table_data = []\n",
    "table = soup.find(\"table\")\n",
    "if table:\n",
    "    rows = table.find_all(\"tr\")\n",
    "    for row in rows[1:]:  # skip header\n",
    "        cols = [c.get_text(strip=True) for c in row.find_all(\"td\")]\n",
    "        if len(cols) >= 3:\n",
    "            table_data.append({\"product\": cols[0], \"price\": cols[1], \"inStock\": cols[2]})\n",
    "\n",
    "\n",
    "\n",
    "# Save table data to CSV\n",
    "with open(\"Extract_Table_Data.csv\", \"w\", newline=\"\", encoding=\"utf-8-sig\") as f:\n",
    "    writer = csv.DictWriter(f, fieldnames=[\"product\", \"price\", \"inStock\"])\n",
    "    writer.writeheader()\n",
    "    writer.writerows(table_data)"
   ]
  },
  {
   "cell_type": "markdown",
   "id": "be0eec51-556e-49b2-880c-7bbc4b60aa77",
   "metadata": {},
   "source": [
    "# Task 3 Extract Product Information (Cards section)"
   ]
  },
  {
   "cell_type": "code",
   "execution_count": 59,
   "id": "06c69fe8-108e-4f03-9226-825b5d7fb631",
   "metadata": {},
   "outputs": [],
   "source": [
    "product_info = []\n",
    "cards = soup.find_all(class_=\"card\")\n",
    "for card in cards:\n",
    "    title = card.find(\"h3\").get_text(strip=True) if card.find(\"h3\") else \"\"\n",
    "    price = card.find(class_=\"price\").get_text(strip=True) if card.find(class_=\"price\") else \"\"\n",
    "    stock = card.find(class_=\"stock\").get_text(strip=True) if card.find(class_=\"stock\") else \"\"\n",
    "    button = card.find(\"button\").get_text(strip=True) if card.find(\"button\") else \"\"\n",
    "    product_info.append({\n",
    "        \"Book Title\": title,\n",
    "        \"Price\": price,\n",
    "        \"Stock Availability\": stock,\n",
    "        \"Button Text\": button\n",
    "    })\n",
    "\n",
    "# Save product information to JSON\n",
    "with open(\"Product_Information.json\", \"w\", encoding=\"utf-8\") as f:\n",
    "    json.dump(product_info, f, indent=2, ensure_ascii=False)"
   ]
  },
  {
   "cell_type": "markdown",
   "id": "5675e904-3456-4d7a-b13f-72468a2278d2",
   "metadata": {},
   "source": [
    "# Task 4 Extract Form Details"
   ]
  },
  {
   "cell_type": "code",
   "execution_count": 60,
   "id": "88bab0d9-30ae-46d2-abe4-57d4d737dc7b",
   "metadata": {},
   "outputs": [],
   "source": [
    "form_details = []\n",
    "form = soup.find(\"form\")\n",
    "if form:\n",
    "    for inp in form.find_all([\"input\", \"select\", \"textarea\"]):\n",
    "        name = inp.get(\"name\")\n",
    "        input_type = inp.get(\"type\") if inp.get(\"type\") else inp.name\n",
    "        default = inp.get(\"value\") if inp.get(\"value\") else \"\"\n",
    "        form_details.append({\n",
    "            \"Field Name\": name,\n",
    "            \"Input Type\": input_type,\n",
    "            \"Default Value\": default\n",
    "        })\n",
    "\n",
    "\n",
    "# Save form details to JSON\n",
    "with open(\"Form_Details.json\", \"w\", encoding=\"utf-8\") as f:\n",
    "    json.dump(form_details, f, indent=2, ensure_ascii=False)"
   ]
  },
  {
   "cell_type": "markdown",
   "id": "32334859-af8b-40a4-b8e8-e6388c93c7a4",
   "metadata": {},
   "source": [
    "# Task 5 : Extract Links & Multimedia"
   ]
  },
  {
   "cell_type": "code",
   "execution_count": 61,
   "id": "bc46a1a5-89d1-4b4b-9cce-5af67f5c5705",
   "metadata": {},
   "outputs": [],
   "source": [
    "links_multimedia = {}\n",
    "iframe = soup.find(\"iframe\")\n",
    "if iframe:\n",
    "    links_multimedia[\"video_link\"] = iframe.get(\"src\")\n",
    "\n",
    "\n",
    "# Save video link to JSON\n",
    "with open(\"Links_Multimedia.json\", \"w\", encoding=\"utf-8\") as f:\n",
    "    json.dump(links_multimedia, f, indent=2, ensure_ascii=False)"
   ]
  },
  {
   "cell_type": "markdown",
   "id": "1956ebe8-92aa-4708-8331-5bd6853d2e60",
   "metadata": {},
   "source": [
    "# task 6 : Scraping Challenge"
   ]
  },
  {
   "cell_type": "code",
   "execution_count": 62,
   "id": "df844941-6113-4144-8dfa-37eb6b0ecd2a",
   "metadata": {},
   "outputs": [],
   "source": [
    "featured_products = []\n",
    "featured = soup.find_all(attrs={\"data-id\": True})\n",
    "for item in featured:\n",
    "    pid = item.get(\"data-id\")\n",
    "    name = item.find(class_=\"name\").get_text(strip=True) if item.find(class_=\"name\") else \"\"\n",
    "    price = item.find(class_=\"price\").get_text(strip=True) if item.find(class_=\"price\") else \"\"\n",
    "    colors = item.find(class_=\"colors\").get_text(strip=True) if item.find(class_=\"colors\") else \"\"\n",
    "    featured_products.append({\n",
    "        \"id\": pid,\n",
    "        \"name\": name,\n",
    "        \"price\": price,\n",
    "        \"colors\": colors\n",
    "    })\n",
    "\n",
    "\n",
    "# Save featured products to JSON\n",
    "with open(\"Featured_Products.json\", \"w\", encoding=\"utf-8\") as f:\n",
    "    json.dump(featured_products, f, indent=2, ensure_ascii=False)"
   ]
  },
  {
   "cell_type": "code",
   "execution_count": null,
   "id": "923b6ef5-2d34-4344-9ca4-f32d55e70a51",
   "metadata": {},
   "outputs": [],
   "source": []
  },
  {
   "cell_type": "code",
   "execution_count": null,
   "id": "014b21c4-b747-4786-9e1a-356b062c4679",
   "metadata": {},
   "outputs": [],
   "source": []
  }
 ],
 "metadata": {
  "kernelspec": {
   "display_name": "Python 3 (ipykernel)",
   "language": "python",
   "name": "python3"
  },
  "language_info": {
   "codemirror_mode": {
    "name": "ipython",
    "version": 3
   },
   "file_extension": ".py",
   "mimetype": "text/x-python",
   "name": "python",
   "nbconvert_exporter": "python",
   "pygments_lexer": "ipython3",
   "version": "3.13.5"
  }
 },
 "nbformat": 4,
 "nbformat_minor": 5
}
